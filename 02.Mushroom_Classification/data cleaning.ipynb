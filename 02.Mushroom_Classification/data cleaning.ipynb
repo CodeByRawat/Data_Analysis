{
 "cells": [
  {
   "cell_type": "markdown",
   "id": "d0598fc9-f55b-426b-a90b-6ec1676bc32e",
   "metadata": {},
   "source": [
    "<a id=\"1\"></a>\n",
    "# <div style=\"text-align:center; border-radius:30px 30px; padding:7px; color:white; margin:0; font-size:150%; font-family:Arial; background-color:#0033cc; overflow:hidden\"><b> Mushroom Mystery: Edible or Poisonous? </b></div>"
   ]
  },
  {
   "cell_type": "markdown",
   "id": "6f41d3c4-7cc8-4b98-91a5-aeb26b76f0a7",
   "metadata": {},
   "source": [
    "![mushrooms](https://img.freepik.com/free-vector/different-types-mushrooms_1308-86573.jpg?t=st=1722544742~exp=1722548342~hmac=afb99520b515d7ae34bf06b713fd9b50277d5d432b6f9b455d53c475f48bf5ee&w=2000)"
   ]
  },
  {
   "cell_type": "markdown",
   "id": "30391eae-2f3e-4a2e-8308-cffee036179b",
   "metadata": {},
   "source": [
    "<div style=\"padding: 20px; border-color: #4CAF50; border-radius: 8px; box-shadow: 0 2px 6px 0 rgba(0, 0, 0, 0.2); border: 2px solid #4CAF50; width: 75%; margin: 20px auto; background-color: #f4fff4;\">\n",
    "    <p style=\"font-size: 20px; font-family: 'Georgia'; line-height: 1.8em; color: #333;\">\n",
    "        Imagine stepping into the enchanting world of mycology, where every mushroom tells a story. As an aspiring <strong>\"Mushroom Inspector\"</strong>, your task is to determine the safety of these fungi based on their features. Some mushrooms may appear harmless yet harbor toxic secrets, while others might be perfectly safe but are often avoided due to their unusual looks.\n",
    "    </p>\n",
    "    <p style=\"font-size: 20px; font-family: 'Georgia'; line-height: 1.8em; color: #333;\">\n",
    "        In this project, we dive into a carefully curated dataset that mimics real-world mushroom observations. It features characteristics such as cap color, gill size, and spore print—traits that hold the key to unraveling their edibility. By applying data science techniques, you’ll transform raw data into actionable insights.\n",
    "    </p>\n",
    "    <p style=\"font-size: 20px; font-family: 'Georgia'; line-height: 1.8em; color: #333;\">\n",
    "        From data exploration (EDA) to predictive modeling, this journey equips you with the skills to spot patterns and design an intelligent system that distinguishes between edible and poisonous mushrooms, ensuring safer adventures in the forest.\n",
    "    </p>\n",
    "</div>\n"
   ]
  },
  {
   "cell_type": "markdown",
   "id": "317950c3-6dc0-4522-b050-e6ec8f92268e",
   "metadata": {},
   "source": [
    "- <a href=\"#libraries\">1. Importing Required Libraries</a>\n",
    "- <a href=\"#data\">2. Reading and Understanding our Data</a>\n",
    "- <a href=\"#clean\">3. Data Cleaning</a>\n",
    "    - <a href=\"#infreq\">3.1. Deal with Infrequent Categories</a> \n",
    "    - <a href=\"#numerical\">3.2. Fill Missing Values in Numerical Columns</a> \n",
    "    - <a href=\"#impute\">3.3. Impute Categorical Missing Values</a> \n",
    "    - <a href=\"#dup\">3.4. Drop Duplicates</a> \n"
   ]
  },
  {
   "cell_type": "code",
   "execution_count": null,
   "id": "574bb83c-ba0d-47db-a1bb-015a783e0d00",
   "metadata": {},
   "outputs": [],
   "source": [
    "import numpy as np\n",
    "import pandas as pd \n",
    "import os \n",
    "import matplotlib.pyplot as plt"
   ]
  },
  {
   "cell_type": "code",
   "execution_count": null,
   "id": "5d317d37-11b3-42c8-83fe-9189d5311de5",
   "metadata": {},
   "outputs": [],
   "source": [
    "os.chdir('D:\\\\data analyst\\\\kaggle datasets\\\\mushroom classification\\\\uci\\\\')"
   ]
  },
  {
   "cell_type": "code",
   "execution_count": null,
   "id": "003a9af2-57c2-42bd-9c0d-7691d70ffea0",
   "metadata": {},
   "outputs": [],
   "source": [
    "mdata=pd.read_csv('agaricus-lepiota.csv')"
   ]
  },
  {
   "cell_type": "code",
   "execution_count": null,
   "id": "6acb9f08-1a43-4f56-9e64-202d26bca643",
   "metadata": {},
   "outputs": [],
   "source": [
    "mdata.head()"
   ]
  },
  {
   "cell_type": "code",
   "execution_count": null,
   "id": "ee173264-f4a5-47d8-b09f-f57cdb944bfe",
   "metadata": {},
   "outputs": [],
   "source": [
    "mdata=mdata.rename(columns={'p':'target',\n",
    "                            'x':'cap-shape',\n",
    "                            's':'cap-surface',\n",
    "                            'n':'cap-color',\n",
    "                            't':'bruises',\n",
    "                            'p.1':'odor',\n",
    "                            'f':'gill-attachment',\n",
    "                            'c':'gill-spacing',\n",
    "                            'n.1':'gill-size',\n",
    "                            'k':'gill-color',\n",
    "                            'e':'stalk-shape',\n",
    "                            'e.1':'stalk-root',\n",
    "                            's.1':'stalk-surface-above-ring',\n",
    "                            's.2':'stalk-surface-below-ring',\n",
    "                            'w':'stalk-color-above-ring',\n",
    "                            'w.1':'stalk-color-below-ring',\n",
    "                            'p.2':'veil-type',\n",
    "                            'w.2':'veil-color',\n",
    "                            'o':'ring-number',\n",
    "                            'p.3':'ring-type',\n",
    "                            'k.1':'spore-print-color',\n",
    "                            's.3':'population',\n",
    "                            'u':'habitat'})"
   ]
  },
  {
   "cell_type": "code",
   "execution_count": null,
   "id": "2f71cb20-2739-42c8-b6c4-37d6ef982b40",
   "metadata": {
    "scrolled": true
   },
   "outputs": [],
   "source": [
    "mdata.info()"
   ]
  },
  {
   "cell_type": "code",
   "execution_count": null,
   "id": "73bff07d-25b3-486f-95c1-c03ff633e4c7",
   "metadata": {},
   "outputs": [],
   "source": [
    "for x in mdata:\n",
    "    print(mdata[x].value_counts())"
   ]
  },
  {
   "cell_type": "markdown",
   "id": "cc6aa4e5-14f3-4115-b1cd-01813a92c4f4",
   "metadata": {},
   "source": []
  },
  {
   "cell_type": "code",
   "execution_count": null,
   "id": "1e01dd9d-f78e-4f88-9237-1da09e813003",
   "metadata": {},
   "outputs": [],
   "source": [
    "mdata['stalk-root'].value_counts()"
   ]
  },
  {
   "cell_type": "code",
   "execution_count": null,
   "id": "4ace8f55-d60d-4f3d-a0a1-c0834321f727",
   "metadata": {},
   "outputs": [],
   "source": [
    "mdata_new=mdata.drop(mdata[mdata['stalk-root']=='?'].index,axis=0)\n"
   ]
  },
  {
   "cell_type": "code",
   "execution_count": null,
   "id": "2544c749-9069-41ca-bbf3-e9d1ab31aa2a",
   "metadata": {},
   "outputs": [],
   "source": [
    "mdata_new['stalk-root'].value_counts()"
   ]
  },
  {
   "cell_type": "code",
   "execution_count": null,
   "id": "000cc829-14e9-4f27-ba4c-118392c9b10e",
   "metadata": {
    "scrolled": true
   },
   "outputs": [],
   "source": [
    "plt.title('target balance')\n",
    "mdata['target'].value_counts().plot.pie(autopct='%1.1f%%')\n",
    "plt.figure()\n",
    "plt.title('target balance after removing empty rows')\n",
    "mdata_new['target'].value_counts().plot.pie(autopct='%1.1f%%')\n"
   ]
  },
  {
   "cell_type": "code",
   "execution_count": null,
   "id": "6c101703-f148-44c7-8623-072c3d9ddcf8",
   "metadata": {},
   "outputs": [],
   "source": [
    "from ipywidgets import interact\n",
    "import seaborn as sns"
   ]
  },
  {
   "cell_type": "code",
   "execution_count": null,
   "id": "76501698-c3fd-4d1a-a4f2-a461f38a806d",
   "metadata": {},
   "outputs": [],
   "source": [
    "mdata_new['target']=mdata_new['target'].map({'p':0,'e':1})\n"
   ]
  },
  {
   "cell_type": "code",
   "execution_count": null,
   "id": "faf2f0ba-4b49-4429-89e0-6847013b4dba",
   "metadata": {},
   "outputs": [],
   "source": [
    "def count_box(col):\n",
    "    sns.countplot(x=mdata_new[col],y=mdata_new['target'],palette='bright')\n",
    "\n",
    "cols=mdata_new.columns[:]\n",
    "interact(countplot_box,col=cols)"
   ]
  },
  {
   "cell_type": "code",
   "execution_count": null,
   "id": "2f67c6c3-43e9-4dc7-85a0-ef384f0c29cb",
   "metadata": {},
   "outputs": [],
   "source": [
    "def barplot_box(col):\n",
    "    sns.barplot(x=mdata_new[col],y=mdata_new['target'],palette='bright')\n",
    "\n",
    "cols=mdata_new.columns[:]\n",
    "interact(barplot_box,col=cols)"
   ]
  },
  {
   "cell_type": "code",
   "execution_count": null,
   "id": "4f2e903a-83a3-4981-8880-35615b59b776",
   "metadata": {},
   "outputs": [],
   "source": [
    "def crosstab(col):\n",
    "    return(pd.crosstab(index=mdata_new[col],columns=mdata_new['target']))\n",
    "    \n",
    "interact(crosstab,col=cols)"
   ]
  },
  {
   "cell_type": "code",
   "execution_count": null,
   "id": "b3f594aa-238b-4e2c-b096-97ded7627109",
   "metadata": {},
   "outputs": [],
   "source": [
    "mdata_new.head()"
   ]
  },
  {
   "cell_type": "code",
   "execution_count": null,
   "id": "5f14d869-b761-44e4-a9de-be868ba57a97",
   "metadata": {},
   "outputs": [],
   "source": [
    "mdata_final=mdata[['cap-surface','cap-color','bruises','gill-color','stalk-shape','habitat','target']]"
   ]
  },
  {
   "cell_type": "code",
   "execution_count": null,
   "id": "2a9bd695-3a18-448d-b5ef-c55eef1e808a",
   "metadata": {},
   "outputs": [],
   "source": [
    "mdata_final.to_csv('cleaned_musshroom_data',index=False)"
   ]
  },
  {
   "cell_type": "code",
   "execution_count": null,
   "id": "a6ae6203-824a-4cf5-b021-f2516ee044fd",
   "metadata": {},
   "outputs": [],
   "source": []
  }
 ],
 "metadata": {
  "kernelspec": {
   "display_name": "Python 3 (ipykernel)",
   "language": "python",
   "name": "python3"
  },
  "language_info": {
   "codemirror_mode": {
    "name": "ipython",
    "version": 3
   },
   "file_extension": ".py",
   "mimetype": "text/x-python",
   "name": "python",
   "nbconvert_exporter": "python",
   "pygments_lexer": "ipython3",
   "version": "3.13.0"
  }
 },
 "nbformat": 4,
 "nbformat_minor": 5
}
